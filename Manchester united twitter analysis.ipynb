{
 "cells": [
  {
   "cell_type": "markdown",
   "id": "48385d36",
   "metadata": {},
   "source": [
    "# Analysis of Manchester united's official account's tweets from january till october 22"
   ]
  },
  {
   "cell_type": "markdown",
   "id": "548161c2",
   "metadata": {},
   "source": [
    "### This project analyzes manchester united's tweets from january till october 22"
   ]
  },
  {
   "cell_type": "code",
   "execution_count": 1,
   "id": "01f12e56",
   "metadata": {},
   "outputs": [],
   "source": [
    "# import libraries\n",
    "import pandas as pd\n",
    "import numpy as np\n",
    "import seaborn as sns\n",
    "import matplotlib.pyplot as plt\n",
    "%matplotlib inline"
   ]
  },
  {
   "cell_type": "code",
   "execution_count": 2,
   "id": "2c17ec55",
   "metadata": {},
   "outputs": [],
   "source": [
    "# import data as manu_df\n",
    "manu_df = pd.read_csv('manutd.csv')"
   ]
  },
  {
   "cell_type": "code",
   "execution_count": 3,
   "id": "3c32da60",
   "metadata": {},
   "outputs": [
    {
     "data": {
      "text/html": [
       "<div>\n",
       "<style scoped>\n",
       "    .dataframe tbody tr th:only-of-type {\n",
       "        vertical-align: middle;\n",
       "    }\n",
       "\n",
       "    .dataframe tbody tr th {\n",
       "        vertical-align: top;\n",
       "    }\n",
       "\n",
       "    .dataframe thead th {\n",
       "        text-align: right;\n",
       "    }\n",
       "</style>\n",
       "<table border=\"1\" class=\"dataframe\">\n",
       "  <thead>\n",
       "    <tr style=\"text-align: right;\">\n",
       "      <th></th>\n",
       "      <th>date</th>\n",
       "      <th>num_likes</th>\n",
       "      <th>num_retweets</th>\n",
       "      <th>tweet_source</th>\n",
       "      <th>tweets</th>\n",
       "    </tr>\n",
       "  </thead>\n",
       "  <tbody>\n",
       "    <tr>\n",
       "      <th>0</th>\n",
       "      <td>2022-10-19 18:57:33+00:00</td>\n",
       "      <td>701</td>\n",
       "      <td>83</td>\n",
       "      <td>Twitter for Advertisers</td>\n",
       "      <td>Revealed: the rationale behind tonight's team ...</td>\n",
       "    </tr>\n",
       "    <tr>\n",
       "      <th>1</th>\n",
       "      <td>2022-10-19 18:52:28+00:00</td>\n",
       "      <td>1444</td>\n",
       "      <td>149</td>\n",
       "      <td>Twitter for Advertisers</td>\n",
       "      <td>🏃‍♂️ @B_Fernandes8 leading the charge for warm...</td>\n",
       "    </tr>\n",
       "    <tr>\n",
       "      <th>2</th>\n",
       "      <td>2022-10-19 18:35:17+00:00</td>\n",
       "      <td>1760</td>\n",
       "      <td>225</td>\n",
       "      <td>Twitter Web App</td>\n",
       "      <td>Love an evening game at Old Trafford! 🌕\\n\\nWe'...</td>\n",
       "    </tr>\n",
       "    <tr>\n",
       "      <th>3</th>\n",
       "      <td>2022-10-19 18:15:11+00:00</td>\n",
       "      <td>14417</td>\n",
       "      <td>2721</td>\n",
       "      <td>Twitter for Advertisers</td>\n",
       "      <td>🚨 TEAM NEWS 🚨\\n\\n🔄 One change for the Reds as ...</td>\n",
       "    </tr>\n",
       "    <tr>\n",
       "      <th>4</th>\n",
       "      <td>2022-10-19 16:52:40+00:00</td>\n",
       "      <td>2416</td>\n",
       "      <td>235</td>\n",
       "      <td>Twitter Web App</td>\n",
       "      <td>Legends ❤️\\n\\n#PL matchday 10/38.\\n\\n#MUFC || ...</td>\n",
       "    </tr>\n",
       "  </tbody>\n",
       "</table>\n",
       "</div>"
      ],
      "text/plain": [
       "                        date  num_likes  num_retweets  \\\n",
       "0  2022-10-19 18:57:33+00:00        701            83   \n",
       "1  2022-10-19 18:52:28+00:00       1444           149   \n",
       "2  2022-10-19 18:35:17+00:00       1760           225   \n",
       "3  2022-10-19 18:15:11+00:00      14417          2721   \n",
       "4  2022-10-19 16:52:40+00:00       2416           235   \n",
       "\n",
       "              tweet_source                                             tweets  \n",
       "0  Twitter for Advertisers  Revealed: the rationale behind tonight's team ...  \n",
       "1  Twitter for Advertisers  🏃‍♂️ @B_Fernandes8 leading the charge for warm...  \n",
       "2          Twitter Web App  Love an evening game at Old Trafford! 🌕\\n\\nWe'...  \n",
       "3  Twitter for Advertisers  🚨 TEAM NEWS 🚨\\n\\n🔄 One change for the Reds as ...  \n",
       "4          Twitter Web App  Legends ❤️\\n\\n#PL matchday 10/38.\\n\\n#MUFC || ...  "
      ]
     },
     "execution_count": 3,
     "metadata": {},
     "output_type": "execute_result"
    }
   ],
   "source": [
    "# check data head\n",
    "manu_df.head()"
   ]
  },
  {
   "cell_type": "code",
   "execution_count": 4,
   "id": "babb6cc0",
   "metadata": {},
   "outputs": [
    {
     "name": "stdout",
     "output_type": "stream",
     "text": [
      "<class 'pandas.core.frame.DataFrame'>\n",
      "RangeIndex: 5001 entries, 0 to 5000\n",
      "Data columns (total 5 columns):\n",
      " #   Column        Non-Null Count  Dtype \n",
      "---  ------        --------------  ----- \n",
      " 0   date          5001 non-null   object\n",
      " 1   num_likes     5001 non-null   int64 \n",
      " 2   num_retweets  5001 non-null   int64 \n",
      " 3   tweet_source  5001 non-null   object\n",
      " 4   tweets        5001 non-null   object\n",
      "dtypes: int64(2), object(3)\n",
      "memory usage: 195.5+ KB\n"
     ]
    }
   ],
   "source": [
    "# check data info\n",
    "manu_df.info()"
   ]
  },
  {
   "cell_type": "code",
   "execution_count": 5,
   "id": "494377d3",
   "metadata": {},
   "outputs": [],
   "source": [
    "# convert the date column to date time format\n",
    "manu_df['date'] = pd.to_datetime(manu_df['date'])"
   ]
  },
  {
   "cell_type": "code",
   "execution_count": 6,
   "id": "27f33c2f",
   "metadata": {},
   "outputs": [
    {
     "data": {
      "text/plain": [
       "date            0\n",
       "num_likes       0\n",
       "num_retweets    0\n",
       "tweet_source    0\n",
       "tweets          0\n",
       "dtype: int64"
      ]
     },
     "execution_count": 6,
     "metadata": {},
     "output_type": "execute_result"
    }
   ],
   "source": [
    "# Check for missing rows\n",
    "manu_df.isnull().sum()"
   ]
  },
  {
   "cell_type": "code",
   "execution_count": 7,
   "id": "fbef04eb",
   "metadata": {},
   "outputs": [
    {
     "data": {
      "text/plain": [
       "<function matplotlib.pyplot.show(close=None, block=None)>"
      ]
     },
     "execution_count": 7,
     "metadata": {},
     "output_type": "execute_result"
    },
    {
     "data": {
      "image/png": "[encoded data removed]",
      "text/plain": [
       "<Figure size 864x720 with 1 Axes>"
      ]
     },
     "metadata": {
      "needs_background": "light"
     },
     "output_type": "display_data"
    }
   ],
   "source": [
    "# Lets look at the source of most tweets\n",
    "plt.figure(figsize = (12,10))\n",
    "sns.set_style(style= 'darkgrid')\n",
    "sns.countplot(x = manu_df['tweet_source'], order = manu_df['tweet_source'].value_counts().index)\n",
    "plt.xticks(rotation = 90)\n",
    "plt.show"
   ]
  },
  {
   "cell_type": "markdown",
   "id": "f81ab796",
   "metadata": {},
   "source": [
    "### Most of the tweet source was 'Twitter for advertisers' with 'Twitter Ads' generating the least tweets."
   ]
  },
  {
   "cell_type": "code",
   "execution_count": 8,
   "id": "f3195cd0",
   "metadata": {},
   "outputs": [
    {
     "data": {
      "text/plain": [
       "0      2022-10-19 18:57:33+00:00\n",
       "1      2022-10-19 18:52:28+00:00\n",
       "2      2022-10-19 18:35:17+00:00\n",
       "3      2022-10-19 18:15:11+00:00\n",
       "4      2022-10-19 16:52:40+00:00\n",
       "                  ...           \n",
       "4996   2022-01-14 09:53:38+00:00\n",
       "4997   2022-01-14 09:46:14+00:00\n",
       "4998   2022-01-14 09:39:37+00:00\n",
       "4999   2022-01-14 09:36:44+00:00\n",
       "5000   2022-01-14 09:29:46+00:00\n",
       "Name: date, Length: 5001, dtype: datetime64[ns, UTC]"
      ]
     },
     "execution_count": 8,
     "metadata": {},
     "output_type": "execute_result"
    }
   ],
   "source": [
    "# Lets explore the date column\n",
    "manu_df['date']"
   ]
  },
  {
   "cell_type": "markdown",
   "id": "03264d87",
   "metadata": {},
   "source": [
    "### The dataset spans from 14 of january to 19th of october"
   ]
  },
  {
   "cell_type": "code",
   "execution_count": 9,
   "id": "1169b1b4",
   "metadata": {},
   "outputs": [],
   "source": [
    "manu_df['month'] = manu_df['date'].dt.month\n",
    "manu_df['day_of_week'] = manu_df['date'].dt.dayofweek"
   ]
  },
  {
   "cell_type": "code",
   "execution_count": 10,
   "id": "dcfa68a5",
   "metadata": {},
   "outputs": [],
   "source": [
    "# Map int to months\n",
    "import calendar\n",
    "manu_df['month'] = manu_df['month'].apply(lambda x: calendar.month_abbr[x])"
   ]
  },
  {
   "cell_type": "code",
   "execution_count": 11,
   "id": "558aa449",
   "metadata": {},
   "outputs": [
    {
     "data": {
      "text/plain": [
       "month\n",
       "Feb    656\n",
       "Jul    617\n",
       "Mar    611\n",
       "Apr    586\n",
       "May    512\n",
       "Sep    495\n",
       "Oct    431\n",
       "Jan    421\n",
       "Aug    384\n",
       "Jun    288\n",
       "Name: tweets, dtype: int64"
      ]
     },
     "execution_count": 11,
     "metadata": {},
     "output_type": "execute_result"
    }
   ],
   "source": [
    "# Let's see the month with the highest number of tweets\n",
    "manu_df.groupby('month')['tweets'].count().sort_values(ascending = False)"
   ]
  },
  {
   "cell_type": "code",
   "execution_count": 12,
   "id": "b6ba41c2",
   "metadata": {},
   "outputs": [
    {
     "data": {
      "text/plain": [
       "<function matplotlib.pyplot.show(close=None, block=None)>"
      ]
     },
     "execution_count": 12,
     "metadata": {},
     "output_type": "execute_result"
    },
    {
     "data": {
      "image/png": "[encoded data removed]",
      "text/plain": [
       "<Figure size 864x720 with 1 Axes>"
      ]
     },
     "metadata": {},
     "output_type": "display_data"
    }
   ],
   "source": [
    "plt.figure(figsize = (12,10))\n",
    "sns.set_style(style= 'darkgrid')\n",
    "sns.countplot(x = manu_df['month'], order = manu_df['month'].value_counts().index)\n",
    "plt.show"
   ]
  },
  {
   "cell_type": "markdown",
   "id": "d62b8d1a",
   "metadata": {},
   "source": [
    "### The months of feb march april may were amongst the top 5 months with most tweets, with july being second because of the excitement from transfers and buzzing for the new season.  With june being the least because of the holidays."
   ]
  },
  {
   "cell_type": "code",
   "execution_count": 13,
   "id": "4b20ef88",
   "metadata": {},
   "outputs": [],
   "source": [
    "# Lets create a column of tweet interaction, to see the tweets with the most interractions\n",
    "manu_df['interractions'] = manu_df['num_likes'] + manu_df['num_retweets']"
   ]
  },
  {
   "cell_type": "code",
   "execution_count": 14,
   "id": "f63002b8",
   "metadata": {
    "scrolled": true
   },
   "outputs": [
    {
     "data": {
      "text/html": [
       "<div>\n",
       "<style scoped>\n",
       "    .dataframe tbody tr th:only-of-type {\n",
       "        vertical-align: middle;\n",
       "    }\n",
       "\n",
       "    .dataframe tbody tr th {\n",
       "        vertical-align: top;\n",
       "    }\n",
       "\n",
       "    .dataframe thead th {\n",
       "        text-align: right;\n",
       "    }\n",
       "</style>\n",
       "<table border=\"1\" class=\"dataframe\">\n",
       "  <thead>\n",
       "    <tr style=\"text-align: right;\">\n",
       "      <th></th>\n",
       "      <th>date</th>\n",
       "      <th>num_likes</th>\n",
       "      <th>num_retweets</th>\n",
       "      <th>tweet_source</th>\n",
       "      <th>tweets</th>\n",
       "      <th>month</th>\n",
       "      <th>day_of_week</th>\n",
       "      <th>interractions</th>\n",
       "    </tr>\n",
       "  </thead>\n",
       "  <tbody>\n",
       "    <tr>\n",
       "      <th>2923</th>\n",
       "      <td>2022-04-21 10:10:09+00:00</td>\n",
       "      <td>257630</td>\n",
       "      <td>62999</td>\n",
       "      <td>Twitter for Advertisers</td>\n",
       "      <td>🇳🇱👔\\n\\nThe new First-Team Manager of Mancheste...</td>\n",
       "      <td>Apr</td>\n",
       "      <td>3</td>\n",
       "      <td>320629</td>\n",
       "    </tr>\n",
       "    <tr>\n",
       "      <th>1135</th>\n",
       "      <td>2022-08-19 19:15:53+00:00</td>\n",
       "      <td>249915</td>\n",
       "      <td>43562</td>\n",
       "      <td>Twitter for Advertisers</td>\n",
       "      <td>We are delighted to have reached an agreement ...</td>\n",
       "      <td>Aug</td>\n",
       "      <td>4</td>\n",
       "      <td>293477</td>\n",
       "    </tr>\n",
       "    <tr>\n",
       "      <th>255</th>\n",
       "      <td>2022-10-09 18:54:26+00:00</td>\n",
       "      <td>258076</td>\n",
       "      <td>31448</td>\n",
       "      <td>Twitter Web App</td>\n",
       "      <td>Astonishing. https://t.co/0UWTNQZm6U</td>\n",
       "      <td>Oct</td>\n",
       "      <td>6</td>\n",
       "      <td>289524</td>\n",
       "    </tr>\n",
       "    <tr>\n",
       "      <th>954</th>\n",
       "      <td>2022-08-30 12:00:15+00:00</td>\n",
       "      <td>197754</td>\n",
       "      <td>33988</td>\n",
       "      <td>Twitter for Advertisers</td>\n",
       "      <td>An agreement has been reached for the transfer...</td>\n",
       "      <td>Aug</td>\n",
       "      <td>1</td>\n",
       "      <td>231742</td>\n",
       "    </tr>\n",
       "    <tr>\n",
       "      <th>2920</th>\n",
       "      <td>2022-04-21 11:00:06+00:00</td>\n",
       "      <td>188754</td>\n",
       "      <td>24772</td>\n",
       "      <td>Twitter Web App</td>\n",
       "      <td>New beginnings.\\n\\n🔴⚪⚫ x 🔴⚪🔵\\n\\n#MUFC || #Welc...</td>\n",
       "      <td>Apr</td>\n",
       "      <td>3</td>\n",
       "      <td>213526</td>\n",
       "    </tr>\n",
       "    <tr>\n",
       "      <th>4520</th>\n",
       "      <td>2022-02-05 10:33:00+00:00</td>\n",
       "      <td>187214</td>\n",
       "      <td>21823</td>\n",
       "      <td>Twitter Media Studio</td>\n",
       "      <td>Wishing @Cristiano a happy birthday 🎊\\n\\n#MUFC...</td>\n",
       "      <td>Feb</td>\n",
       "      <td>5</td>\n",
       "      <td>209037</td>\n",
       "    </tr>\n",
       "    <tr>\n",
       "      <th>224</th>\n",
       "      <td>2022-10-10 13:53:33+00:00</td>\n",
       "      <td>178230</td>\n",
       "      <td>20111</td>\n",
       "      <td>Twitter for iPhone</td>\n",
       "      <td>Congratulations, @Cristiano — from everyone at...</td>\n",
       "      <td>Oct</td>\n",
       "      <td>0</td>\n",
       "      <td>198341</td>\n",
       "    </tr>\n",
       "    <tr>\n",
       "      <th>2968</th>\n",
       "      <td>2022-04-18 18:52:15+00:00</td>\n",
       "      <td>178678</td>\n",
       "      <td>16372</td>\n",
       "      <td>Twitter for iPhone</td>\n",
       "      <td>Your pain is our pain, @Cristiano 💔\\n\\nSending...</td>\n",
       "      <td>Apr</td>\n",
       "      <td>0</td>\n",
       "      <td>195050</td>\n",
       "    </tr>\n",
       "    <tr>\n",
       "      <th>1677</th>\n",
       "      <td>2022-07-15 14:00:03+00:00</td>\n",
       "      <td>158950</td>\n",
       "      <td>35646</td>\n",
       "      <td>Twitter for Advertisers</td>\n",
       "      <td>Christian Eriksen is a RED! ✍️🔴\\n\\n#MUFC || @C...</td>\n",
       "      <td>Jul</td>\n",
       "      <td>4</td>\n",
       "      <td>194596</td>\n",
       "    </tr>\n",
       "    <tr>\n",
       "      <th>1086</th>\n",
       "      <td>2022-08-22 20:54:00+00:00</td>\n",
       "      <td>166989</td>\n",
       "      <td>17126</td>\n",
       "      <td>Twitter for iPhone</td>\n",
       "      <td>aaaaaand breathe! 😅</td>\n",
       "      <td>Aug</td>\n",
       "      <td>0</td>\n",
       "      <td>184115</td>\n",
       "    </tr>\n",
       "  </tbody>\n",
       "</table>\n",
       "</div>"
      ],
      "text/plain": [
       "                          date  num_likes  num_retweets  \\\n",
       "2923 2022-04-21 10:10:09+00:00     257630         62999   \n",
       "1135 2022-08-19 19:15:53+00:00     249915         43562   \n",
       "255  2022-10-09 18:54:26+00:00     258076         31448   \n",
       "954  2022-08-30 12:00:15+00:00     197754         33988   \n",
       "2920 2022-04-21 11:00:06+00:00     188754         24772   \n",
       "4520 2022-02-05 10:33:00+00:00     187214         21823   \n",
       "224  2022-10-10 13:53:33+00:00     178230         20111   \n",
       "2968 2022-04-18 18:52:15+00:00     178678         16372   \n",
       "1677 2022-07-15 14:00:03+00:00     158950         35646   \n",
       "1086 2022-08-22 20:54:00+00:00     166989         17126   \n",
       "\n",
       "                 tweet_source  \\\n",
       "2923  Twitter for Advertisers   \n",
       "1135  Twitter for Advertisers   \n",
       "255           Twitter Web App   \n",
       "954   Twitter for Advertisers   \n",
       "2920          Twitter Web App   \n",
       "4520     Twitter Media Studio   \n",
       "224        Twitter for iPhone   \n",
       "2968       Twitter for iPhone   \n",
       "1677  Twitter for Advertisers   \n",
       "1086       Twitter for iPhone   \n",
       "\n",
       "                                                 tweets month  day_of_week  \\\n",
       "2923  🇳🇱👔\\n\\nThe new First-Team Manager of Mancheste...   Apr            3   \n",
       "1135  We are delighted to have reached an agreement ...   Aug            4   \n",
       "255                Astonishing. https://t.co/0UWTNQZm6U   Oct            6   \n",
       "954   An agreement has been reached for the transfer...   Aug            1   \n",
       "2920  New beginnings.\\n\\n🔴⚪⚫ x 🔴⚪🔵\\n\\n#MUFC || #Welc...   Apr            3   \n",
       "4520  Wishing @Cristiano a happy birthday 🎊\\n\\n#MUFC...   Feb            5   \n",
       "224   Congratulations, @Cristiano — from everyone at...   Oct            0   \n",
       "2968  Your pain is our pain, @Cristiano 💔\\n\\nSending...   Apr            0   \n",
       "1677  Christian Eriksen is a RED! ✍️🔴\\n\\n#MUFC || @C...   Jul            4   \n",
       "1086                                aaaaaand breathe! 😅   Aug            0   \n",
       "\n",
       "      interractions  \n",
       "2923         320629  \n",
       "1135         293477  \n",
       "255          289524  \n",
       "954          231742  \n",
       "2920         213526  \n",
       "4520         209037  \n",
       "224          198341  \n",
       "2968         195050  \n",
       "1677         194596  \n",
       "1086         184115  "
      ]
     },
     "execution_count": 14,
     "metadata": {},
     "output_type": "execute_result"
    }
   ],
   "source": [
    "manu_df.sort_values(by = 'interractions', ascending= False).head(10)"
   ]
  },
  {
   "cell_type": "markdown",
   "id": "81197d57",
   "metadata": {},
   "source": [
    "### The tweet with the most interractions yet in the year 2022 is Erik Ten Hags announcement on the 21st of april 2022, with tweets related to ronaldo making up 3 out of the top 10"
   ]
  },
  {
   "cell_type": "code",
   "execution_count": null,
   "id": "acba32c6",
   "metadata": {},
   "outputs": [],
   "source": []
  }
 ],
 "metadata": {
  "kernelspec": {
   "display_name": "Python 3 (ipykernel)",
   "language": "python",
   "name": "python3"
  },
  "language_info": {
   "codemirror_mode": {
    "name": "ipython",
    "version": 3
   },
   "file_extension": ".py",
   "mimetype": "text/x-python",
   "name": "python",
   "nbconvert_exporter": "python",
   "pygments_lexer": "ipython3",
   "version": "3.9.12"
  }
 },
 "nbformat": 4,
 "nbformat_minor": 5
}
